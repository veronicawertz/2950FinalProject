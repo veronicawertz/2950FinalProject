{
 "cells": [
  {
   "cell_type": "code",
   "execution_count": 123,
   "metadata": {},
   "outputs": [
    {
     "name": "stderr",
     "output_type": "stream",
     "text": [
      "D:\\Anaconda3\\lib\\site-packages\\ipykernel_launcher.py:42: SettingWithCopyWarning: \n",
      "A value is trying to be set on a copy of a slice from a DataFrame.\n",
      "Try using .loc[row_indexer,col_indexer] = value instead\n",
      "\n",
      "See the caveats in the documentation: http://pandas.pydata.org/pandas-docs/stable/user_guide/indexing.html#returning-a-view-versus-a-copy\n",
      "D:\\Anaconda3\\lib\\site-packages\\ipykernel_launcher.py:44: SettingWithCopyWarning: \n",
      "A value is trying to be set on a copy of a slice from a DataFrame.\n",
      "Try using .loc[row_indexer,col_indexer] = value instead\n",
      "\n",
      "See the caveats in the documentation: http://pandas.pydata.org/pandas-docs/stable/user_guide/indexing.html#returning-a-view-versus-a-copy\n"
     ]
    },
    {
     "name": "stdout",
     "output_type": "stream",
     "text": [
      "      video_id trending_date  \\\n",
      "0  5E4ZBSInqUU      17.14.11   \n",
      "1  n1WpP7iowLc      17.14.11   \n",
      "2  e_7zHm7GsYc      17.14.11   \n",
      "3  zZ9FciUx6gs      17.14.11   \n",
      "4  PaJCFHXcWmM      17.14.11   \n",
      "\n",
      "                                               title channel_title  \\\n",
      "0         Marshmello - Blocks (Official Music Video)    marshmello   \n",
      "1         Eminem - Walk On Water (Audio) ft. Beyoncé    EminemVEVO   \n",
      "2  Hunter Hayes - You Should Be Loved (Part One O...  Hunter Hayes   \n",
      "3  Nickelback - The Betrayal Act III [Official Vi...    Nickelback   \n",
      "4                                  U2 - The Blackout        U2VEVO   \n",
      "\n",
      "               publish_time  \\\n",
      "0  2017-11-13T17:00:00.000Z   \n",
      "1  2017-11-10T17:00:03.000Z   \n",
      "2  2017-11-13T15:01:18.000Z   \n",
      "3  2017-11-13T15:31:44.000Z   \n",
      "4  2017-11-13T17:00:04.000Z   \n",
      "\n",
      "                                                tags     views   likes  \\\n",
      "0  [marshmello, blocks, marshmello blocks, blocks...    687582  114188   \n",
      "1  [Eminem, Walk, On, Water, Aftermath/Shady/Inte...  17158531  787419   \n",
      "2  [Hunter, Hayes, you should be loved, the shado...     13917    1318   \n",
      "3  [Nickelback, Feed The Machine, The Betrayal Ac...     57169    6927   \n",
      "4         [U2, The, Blackout, Island, Records, Rock]     60506    5389   \n",
      "\n",
      "   dislikes  comment_count           countries_trending_in  \n",
      "0      1333           8371                          ['US']  \n",
      "1     43420         125882  ['US', 'CA', 'GB', 'FR', 'DE']  \n",
      "2        24             76                          ['US']  \n",
      "3       161            565                          ['US']  \n",
      "4       106            455                          ['US']  \n"
     ]
    }
   ],
   "source": [
    "import numpy as np\n",
    "import pandas as pd\n",
    "import re\n",
    "\n",
    "\n",
    "usData = pd.read_csv(\"youtube_music.csv\")\n",
    "\n",
    "\n",
    "\n",
    "\n",
    "\n",
    "tags = usData['tags']\n",
    "\n",
    "\n",
    "tagsDf = pd.DataFrame(tags)\n",
    "\n",
    "\n",
    "tagsDf = tagsDf.tags.replace('[^a-zA-Z0-9|\"/\\ ]', '%', regex=True)\n",
    "\n",
    "\n",
    "filtered_tags = pd.DataFrame(tagsDf)\n",
    "\n",
    "filtered_tags = filtered_tags[~filtered_tags.tags.str.contains(\"%\")]\n",
    "\n",
    "\n",
    "\n",
    "\n",
    "\n",
    "\n",
    "filtered_tags['tags2'] = filtered_tags.tags.str.split('|')\n",
    "filtered_tags = filtered_tags.drop('tags', 1)\n",
    "\n",
    "\n",
    "\n",
    "usData['tags'] = usData.tags.replace('[^a-zA-Z0-9|\"/\\ ]', '%', regex=True)\n",
    "\n",
    "usData['tags'] = usData['tags'][~usData.tags.str.contains(\"%\")]\n",
    "\n",
    "filteredUS = usData[usData['tags'].notna()]\n",
    "\n",
    "\n",
    "filteredUS['tags'] = filteredUS.tags.replace('[\"]', '', regex = True)\n",
    "\n",
    "filteredUS['tags'] = filteredUS.tags.str.split('|')\n",
    "print(filteredUS.head())\n",
    "\n",
    "filteredUS.to_csv('filtered_US_data.csv', index=False)\n"
   ]
  }
 ],
 "metadata": {
  "kernelspec": {
   "display_name": "Python 3",
   "language": "python",
   "name": "python3"
  },
  "language_info": {
   "codemirror_mode": {
    "name": "ipython",
    "version": 3
   },
   "file_extension": ".py",
   "mimetype": "text/x-python",
   "name": "python",
   "nbconvert_exporter": "python",
   "pygments_lexer": "ipython3",
   "version": "3.7.4"
  }
 },
 "nbformat": 4,
 "nbformat_minor": 2
}
