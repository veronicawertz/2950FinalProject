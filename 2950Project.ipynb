{
 "cells": [
  {
   "cell_type": "markdown",
   "metadata": {},
   "source": [
    "# Youtube Dataset Analysis"
   ]
  },
  {
   "cell_type": "markdown",
   "metadata": {},
   "source": [
    "### Data Decription \n",
    "\n",
    "Our dataset contains information about 200 trending videos on YouTube across 205 days. This data was collected from Canada, United States, Great Britain, Germany, France, Russia, Mexico, South Korea, Japan, and India. It includes the video id, the date(s) the video was trending, the video title, the channel name, the number of likes, dislikes, and views at that trending date, the category ID corresponding to the relevant genre of the video, the comment count, the time the video was published, all its tags it was posted under, a link to the thumbnail image used for the video, a boolean values for whether or not the video ever had its comments disabled, ratings disabled, or had an error/was removed, a direct copy and paste of each video’s description, and the link ID to the video. Youtube determines if a video is trending by looking at various factors including number of views, shares, comments, and likes. This dataset was created to explore which videos are trending in certain countries and why, in regards to its raw data, perhaps to better understand how exactly a posted video goes viral and stays viral, and why it garners such attention. “Mitchell J”, a kaggle user, funded the creation of this dataset, and says in the description it was collected using YouTube’s own API’s to gather the relevant raw data. In that regard, since YouTube’s own API was used to scrape this data, only readily-available surface data on the video is included here. Essentially any statistic on a video that you can see when you watch a video is what is included here. No extra analysis was done before collection, so every data point is a raw snapshot of that video at that particular date. In terms of pre-processing the data into a usable format,  all the video data was sorted into an excel spreadsheet, with each row corresponding to a single video at a singular trending date. The sheet goes down each row by date, taking the 200 top trending videos at each day across 8 months from November, 2017 to June 2017. \n",
    "\n",
    "Link to raw data: https://drive.google.com/drive/folders/1MEz1kqZ3AQVY_bdPxITEpsYqLlYEUBU-?usp=sharing\n",
    "\n",
    "### Potential Problems\n",
    "* Any non-English characters do not show up correctly when loading data, so we will focus on Canada, Germany, France, Great Britain, and the United States. Even when limiting to these countries, the dataset is much larger than 20 MB, so we will have to filter it to trim down the size. \n",
    "* In terms of sheer volume, there is a lot of data collected. 16 unique points per video for 200 videos a day across every day for 6 months adds up to a lot of raw data that must be filtered down into what is relevant to our work. \n"
   ]
  },
  {
   "cell_type": "code",
   "execution_count": 1,
   "metadata": {},
   "outputs": [],
   "source": [
    "import pandas as pd"
   ]
  },
  {
   "cell_type": "code",
   "execution_count": 2,
   "metadata": {},
   "outputs": [],
   "source": [
    "## Import US Data\n",
    "us = pd.read_csv(\"USVideos.csv\")\n",
    "us_categories = pd.read_json(\"US_category_id.json\")\n",
    "## Import CA Data\n",
    "ca = pd.read_csv(\"CAVideos.csv\")\n",
    "ca_categories = pd.read_json(\"CA_category_id.json\")\n",
    "## Import GB Data\n",
    "gb = pd.read_csv(\"GBVideos.csv\")\n",
    "gb_categories = pd.read_json(\"GB_category_id.json\")\n",
    "## Import FR Data\n",
    "fr = pd.read_csv(\"FRVideos.csv\")\n",
    "fr_categories = pd.read_json(\"FR_category_id.json\")\n",
    "## Import DE Data\n",
    "de = pd.read_csv(\"DEVideos.csv\")\n",
    "de_categories = pd.read_json(\"DE_category_id.json\")"
   ]
  },
  {
   "cell_type": "code",
   "execution_count": null,
   "metadata": {},
   "outputs": [],
   "source": []
  }
 ],
 "metadata": {
  "kernelspec": {
   "display_name": "Python 3",
   "language": "python",
   "name": "python3"
  },
  "language_info": {
   "codemirror_mode": {
    "name": "ipython",
    "version": 3
   },
   "file_extension": ".py",
   "mimetype": "text/x-python",
   "name": "python",
   "nbconvert_exporter": "python",
   "pygments_lexer": "ipython3",
   "version": "3.7.4"
  }
 },
 "nbformat": 4,
 "nbformat_minor": 2
}
