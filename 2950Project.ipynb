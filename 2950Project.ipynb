{
 "cells": [
  {
   "cell_type": "markdown",
   "metadata": {},
   "source": [
    "# Youtube Dataset Analysis"
   ]
  },
  {
   "cell_type": "markdown",
   "metadata": {},
   "source": [
    "### Data Decription \n",
    "\n",
    "Our raw dataset contains information about 200 trending videos on YouTube across 205 days. This data was collected from Canada, United States, Great Britain, Germany, France, Russia, Mexico, South Korea, Japan, and India. It includes the video id, the date(s) the video was trending, the video title, the channel name, the number of likes, dislikes, and views at that trending date, the category ID corresponding to the relevant genre of the video, the comment count, the time the video was published, all its tags it was posted under, a link to the thumbnail image used for the video, a boolean values for whether or not the video ever had its comments disabled, ratings disabled, or had an error/was removed, a direct copy and paste of each video’s description, and the link ID to the video. Youtube determines if a video is trending by looking at various factors including number of views, shares, comments, and likes. This dataset was created to explore which videos are trending in certain countries and why, in regards to its raw data, perhaps to better understand how exactly a posted video goes viral and stays viral, and why it garners such attention. “Mitchell J”, a kaggle user, funded the creation of this dataset, and says in the description it was collected using YouTube’s own API’s to gather the relevant raw data. In that regard, since YouTube’s own API was used to scrape this data, only readily-available surface data on the video is included here. Essentially any statistic on a video that you can see when you watch a video is what is included here. \n",
    "\n",
    "In terms of pre-processing the data, we had to combine the files for all of the countries we decided to use into one data file. We decided to use only countries that had mostly characters that could be interpreted on the computer. These countries included Canada, Germany, France, Great Britain, and the United States. We decided to just look at the videos under the music category because Youtube is largely used for music. After loading all of the csv files and json files for each country, we determined the category number for music by looking at the json. We then filtered out any videos in each of the Canada, Germany, France, Great Britain, and the United States datasets that were not of the “Music” category. There were many repeats of trending videos on certain days across countries, so we added a column to the dataset that contained a list of countries that a particular video was trending in on a particular day. This allowed for us to just be able to append all of the datasets together and drop the duplicates to give us unique rows, but still distinguish which videos were trending when and in what countries. Additionally we dropped the columns with the link for the thumbnail image of the video, the category id, since they were all the same, and for the description of the video because we felt we would not use it in our analysis.\n",
    "\n",
    "After this initial filtering, we still noticed some issues. Many videos had titles that were written in languages that did not port well into alpha-numeric characters, and showed up as glitchy unicode when looking at the raw data. In order to cut down on this, we filtered down each video that was essentially unusable due to its title/tags data. Each corresponding video per tag that did not contain only alphanumeric characters was flagged and removed from the csv. We also noticed many issues with the dating format of the videos. Each video had a corresponding column for the day it was trending, and the date it was published. The trending_day column was formatted oddly, in year/day/month, and the publish_date was a combined date/time string, so we formatted them all to be consistent. The publish_date was split into 2 columns, one representing the day, and one representing the exact time the video was uploaded. The trending_date column was formatted to the more standard month/day/year format, as was the published_day column. The publish_time column was left in 24 hour format to eliminate any issues with AM/PM. \n",
    "\n",
    "We combined multiple individual csv files, that were over 50 MB each, and json files into one csv file that is about 4 MB. After processing the raw data to combine multiple files into one cohesive dataset, our final dataset that we will use for this project contains trending videos, under the music category, over 205 days in Canada, Germany, France, Great Britain, and the United States. The attributes it contains are the video ids, the date the video was trending, the title of the video, the title of the channel of the video, the time the video was published, the date the video was published, the tags, the number of view, number of likes, number of dislikes, number of comments, and a list of the countries that a video was trending in on a particular day. \n",
    "\n",
    "**The code we used to create our dataset can be found in the file \"Processing 2950 Data.\"**\n",
    "\n",
    "\n",
    "Link to raw data: https://drive.google.com/drive/folders/1MEz1kqZ3AQVY_bdPxITEpsYqLlYEUBU-?usp=sharing\n",
    "\n",
    "### Potential Problems\n",
    "* Because we filtered out rows that contained unknown characters, we may find some gaps in our data. \n",
    "* An overall trend we pull may be incomplete as some foreign videos are missing\n",
    "* For videos that are trending for more than one day, it may be difficult to reference them because their video id will be the same for both days. \n",
    "* We removed the “video description” column for all videos, which may impact our analysis\n"
   ]
  },
  {
   "cell_type": "code",
   "execution_count": 1,
   "metadata": {},
   "outputs": [],
   "source": [
    "import pandas as pd\n",
    "import numpy as np\n",
    "import matplotlib.pyplot as plt\n",
    "from sklearn.linear_model import LinearRegression\n",
    "from sklearn.metrics import r2_score"
   ]
  },
  {
   "cell_type": "code",
   "execution_count": 2,
   "metadata": {},
   "outputs": [
    {
     "data": {
      "text/html": [
       "<div>\n",
       "<style scoped>\n",
       "    .dataframe tbody tr th:only-of-type {\n",
       "        vertical-align: middle;\n",
       "    }\n",
       "\n",
       "    .dataframe tbody tr th {\n",
       "        vertical-align: top;\n",
       "    }\n",
       "\n",
       "    .dataframe thead th {\n",
       "        text-align: right;\n",
       "    }\n",
       "</style>\n",
       "<table border=\"1\" class=\"dataframe\">\n",
       "  <thead>\n",
       "    <tr style=\"text-align: right;\">\n",
       "      <th></th>\n",
       "      <th>video_id</th>\n",
       "      <th>trending_date</th>\n",
       "      <th>title</th>\n",
       "      <th>channel_title</th>\n",
       "      <th>tags</th>\n",
       "      <th>views</th>\n",
       "      <th>likes</th>\n",
       "      <th>dislikes</th>\n",
       "      <th>comment_count</th>\n",
       "      <th>comments_disabled</th>\n",
       "      <th>ratings_disabled</th>\n",
       "      <th>video_error_or_removed</th>\n",
       "      <th>countries_trending_in</th>\n",
       "      <th>publish-day</th>\n",
       "      <th>publish-time</th>\n",
       "    </tr>\n",
       "  </thead>\n",
       "  <tbody>\n",
       "    <tr>\n",
       "      <th>0</th>\n",
       "      <td>5E4ZBSInqUU</td>\n",
       "      <td>11-14-2017</td>\n",
       "      <td>Marshmello - Blocks (Official Music Video)</td>\n",
       "      <td>marshmello</td>\n",
       "      <td>['marshmello', 'blocks', 'marshmello blocks', ...</td>\n",
       "      <td>687582</td>\n",
       "      <td>114188</td>\n",
       "      <td>1333</td>\n",
       "      <td>8371</td>\n",
       "      <td>False</td>\n",
       "      <td>False</td>\n",
       "      <td>False</td>\n",
       "      <td>['US']</td>\n",
       "      <td>2017-11-13</td>\n",
       "      <td>17:00:00</td>\n",
       "    </tr>\n",
       "    <tr>\n",
       "      <th>1</th>\n",
       "      <td>n1WpP7iowLc</td>\n",
       "      <td>11-14-2017</td>\n",
       "      <td>Eminem - Walk On Water (Audio) ft. Beyoncé</td>\n",
       "      <td>EminemVEVO</td>\n",
       "      <td>['Eminem', 'Walk', 'On', 'Water', 'Aftermath/S...</td>\n",
       "      <td>17158531</td>\n",
       "      <td>787419</td>\n",
       "      <td>43420</td>\n",
       "      <td>125882</td>\n",
       "      <td>False</td>\n",
       "      <td>False</td>\n",
       "      <td>False</td>\n",
       "      <td>['US', 'CA', 'GB', 'FR', 'DE']</td>\n",
       "      <td>2017-11-10</td>\n",
       "      <td>17:00:03</td>\n",
       "    </tr>\n",
       "    <tr>\n",
       "      <th>2</th>\n",
       "      <td>e_7zHm7GsYc</td>\n",
       "      <td>11-14-2017</td>\n",
       "      <td>Hunter Hayes - You Should Be Loved (Part One O...</td>\n",
       "      <td>Hunter Hayes</td>\n",
       "      <td>['Hunter', 'Hayes', 'you should be loved', 'th...</td>\n",
       "      <td>13917</td>\n",
       "      <td>1318</td>\n",
       "      <td>24</td>\n",
       "      <td>76</td>\n",
       "      <td>False</td>\n",
       "      <td>False</td>\n",
       "      <td>False</td>\n",
       "      <td>['US']</td>\n",
       "      <td>2017-11-13</td>\n",
       "      <td>15:01:18</td>\n",
       "    </tr>\n",
       "    <tr>\n",
       "      <th>3</th>\n",
       "      <td>zZ9FciUx6gs</td>\n",
       "      <td>11-14-2017</td>\n",
       "      <td>Nickelback - The Betrayal Act III [Official Vi...</td>\n",
       "      <td>Nickelback</td>\n",
       "      <td>['Nickelback', 'Feed The Machine', 'The Betray...</td>\n",
       "      <td>57169</td>\n",
       "      <td>6927</td>\n",
       "      <td>161</td>\n",
       "      <td>565</td>\n",
       "      <td>False</td>\n",
       "      <td>False</td>\n",
       "      <td>False</td>\n",
       "      <td>['US']</td>\n",
       "      <td>2017-11-13</td>\n",
       "      <td>15:31:44</td>\n",
       "    </tr>\n",
       "    <tr>\n",
       "      <th>4</th>\n",
       "      <td>PaJCFHXcWmM</td>\n",
       "      <td>11-14-2017</td>\n",
       "      <td>U2 - The Blackout</td>\n",
       "      <td>U2VEVO</td>\n",
       "      <td>['U2', 'The', 'Blackout', 'Island', 'Records',...</td>\n",
       "      <td>60506</td>\n",
       "      <td>5389</td>\n",
       "      <td>106</td>\n",
       "      <td>455</td>\n",
       "      <td>False</td>\n",
       "      <td>False</td>\n",
       "      <td>False</td>\n",
       "      <td>['US']</td>\n",
       "      <td>2017-11-13</td>\n",
       "      <td>17:00:04</td>\n",
       "    </tr>\n",
       "  </tbody>\n",
       "</table>\n",
       "</div>"
      ],
      "text/plain": [
       "      video_id trending_date  \\\n",
       "0  5E4ZBSInqUU    11-14-2017   \n",
       "1  n1WpP7iowLc    11-14-2017   \n",
       "2  e_7zHm7GsYc    11-14-2017   \n",
       "3  zZ9FciUx6gs    11-14-2017   \n",
       "4  PaJCFHXcWmM    11-14-2017   \n",
       "\n",
       "                                               title channel_title  \\\n",
       "0         Marshmello - Blocks (Official Music Video)    marshmello   \n",
       "1         Eminem - Walk On Water (Audio) ft. Beyoncé    EminemVEVO   \n",
       "2  Hunter Hayes - You Should Be Loved (Part One O...  Hunter Hayes   \n",
       "3  Nickelback - The Betrayal Act III [Official Vi...    Nickelback   \n",
       "4                                  U2 - The Blackout        U2VEVO   \n",
       "\n",
       "                                                tags     views   likes  \\\n",
       "0  ['marshmello', 'blocks', 'marshmello blocks', ...    687582  114188   \n",
       "1  ['Eminem', 'Walk', 'On', 'Water', 'Aftermath/S...  17158531  787419   \n",
       "2  ['Hunter', 'Hayes', 'you should be loved', 'th...     13917    1318   \n",
       "3  ['Nickelback', 'Feed The Machine', 'The Betray...     57169    6927   \n",
       "4  ['U2', 'The', 'Blackout', 'Island', 'Records',...     60506    5389   \n",
       "\n",
       "   dislikes  comment_count  comments_disabled  ratings_disabled  \\\n",
       "0      1333           8371              False             False   \n",
       "1     43420         125882              False             False   \n",
       "2        24             76              False             False   \n",
       "3       161            565              False             False   \n",
       "4       106            455              False             False   \n",
       "\n",
       "   video_error_or_removed           countries_trending_in publish-day  \\\n",
       "0                   False                          ['US']  2017-11-13   \n",
       "1                   False  ['US', 'CA', 'GB', 'FR', 'DE']  2017-11-10   \n",
       "2                   False                          ['US']  2017-11-13   \n",
       "3                   False                          ['US']  2017-11-13   \n",
       "4                   False                          ['US']  2017-11-13   \n",
       "\n",
       "  publish-time  \n",
       "0     17:00:00  \n",
       "1     17:00:03  \n",
       "2     15:01:18  \n",
       "3     15:31:44  \n",
       "4     17:00:04  "
      ]
     },
     "execution_count": 2,
     "metadata": {},
     "output_type": "execute_result"
    }
   ],
   "source": [
    "## Import Dataset\n",
    "df = pd.read_csv(\"youtube_music.csv\")\n",
    "df.head()"
   ]
  },
  {
   "cell_type": "markdown",
   "metadata": {},
   "source": [
    "Below, we separate the numerical data (views, likes, dislikes, comment count) for each country in the dataset and put it into a dictionary, so it is easily accessible. "
   ]
  },
  {
   "cell_type": "code",
   "execution_count": 4,
   "metadata": {},
   "outputs": [],
   "source": [
    "total_number_videos = len(df)\n",
    "stats = {\"US\":{\"views\":[], \"likes\":[], \"dislikes\":[], \"comment_count\":[]}, \n",
    "         \"CA\":{\"views\":[], \"likes\":[], \"dislikes\":[], \"comment_count\":[]}, \n",
    "         \"GB\":{\"views\":[], \"likes\":[], \"dislikes\":[], \"comment_count\":[]}, \n",
    "         \"FR\":{\"views\":[], \"likes\":[], \"dislikes\":[], \"comment_count\":[]}, \n",
    "         \"DE\":{\"views\":[], \"likes\":[], \"dislikes\":[], \"comment_count\":[]}}\n",
    "for i in range(0, len(df)):\n",
    "    row = df.loc[i]\n",
    "    countries = row[\"countries_trending_in\"]\n",
    "    if 'US' in countries:\n",
    "        stats[\"US\"][\"views\"].append(row[\"views\"])\n",
    "        stats[\"US\"][\"likes\"].append(row[\"likes\"])\n",
    "        stats[\"US\"][\"dislikes\"].append(row[\"dislikes\"])\n",
    "        stats[\"US\"][\"comment_count\"].append(row[\"comment_count\"])\n",
    "    if 'CA' in countries:\n",
    "        stats[\"CA\"][\"views\"].append(row[\"views\"])\n",
    "        stats[\"CA\"][\"likes\"].append(row[\"likes\"])\n",
    "        stats[\"CA\"][\"dislikes\"].append(row[\"dislikes\"])\n",
    "        stats[\"CA\"][\"comment_count\"].append(row[\"comment_count\"])\n",
    "    if 'GB' in countries:\n",
    "        stats[\"GB\"][\"views\"].append(row[\"views\"])\n",
    "        stats[\"GB\"][\"likes\"].append(row[\"likes\"])\n",
    "        stats[\"GB\"][\"dislikes\"].append(row[\"dislikes\"])\n",
    "        stats[\"GB\"][\"comment_count\"].append(row[\"comment_count\"])\n",
    "    if 'FR' in countries:\n",
    "        stats[\"FR\"][\"views\"].append(row[\"views\"])\n",
    "        stats[\"FR\"][\"likes\"].append(row[\"likes\"])\n",
    "        stats[\"FR\"][\"dislikes\"].append(row[\"dislikes\"])\n",
    "        stats[\"FR\"][\"comment_count\"].append(row[\"comment_count\"])\n",
    "    if 'DE' in countries:\n",
    "        stats[\"DE\"][\"views\"].append(row[\"views\"])\n",
    "        stats[\"DE\"][\"likes\"].append(row[\"likes\"])\n",
    "        stats[\"DE\"][\"dislikes\"].append(row[\"dislikes\"])\n",
    "        stats[\"DE\"][\"comment_count\"].append(row[\"comment_count\"])"
   ]
  },
  {
   "cell_type": "markdown",
   "metadata": {},
   "source": [
    "We then calculate the number of videos and the mean and standard deviation of the number of views, likes, dislikes, and comments for each country, as well as all of the countries combined. "
   ]
  },
  {
   "cell_type": "code",
   "execution_count": 4,
   "metadata": {},
   "outputs": [
    {
     "name": "stdout",
     "output_type": "stream",
     "text": [
      "US\n",
      "Number of Videos Trending: 3905 \n",
      "\n",
      "Mean views: 6973529\n",
      "Standard Deviation views: 17816536\n",
      "\n",
      "Mean likes: 248155\n",
      "Standard Deviation likes: 499074\n",
      "\n",
      "Mean dislikes: 9116\n",
      "Standard Deviation dislikes: 26522\n",
      "\n",
      "Mean comment_count: 18614\n",
      "Standard Deviation comment_count: 45416\n",
      "\n",
      "\n",
      "\n",
      "CA\n",
      "Number of Videos Trending: 2918 \n",
      "\n",
      "Mean views: 4617326\n",
      "Standard Deviation views: 7937471\n",
      "\n",
      "Mean likes: 211814\n",
      "Standard Deviation likes: 348443\n",
      "\n",
      "Mean dislikes: 7758\n",
      "Standard Deviation dislikes: 15513\n",
      "\n",
      "Mean comment_count: 17607\n",
      "Standard Deviation comment_count: 31266\n",
      "\n",
      "\n",
      "\n",
      "GB\n",
      "Number of Videos Trending: 7112 \n",
      "\n",
      "Mean views: 12995548\n",
      "Standard Deviation views: 31215703\n",
      "\n",
      "Mean likes: 296022\n",
      "Standard Deviation likes: 552548\n",
      "\n",
      "Mean dislikes: 13734\n",
      "Standard Deviation dislikes: 38158\n",
      "\n",
      "Mean comment_count: 21285\n",
      "Standard Deviation comment_count: 47685\n",
      "\n",
      "\n",
      "\n",
      "FR\n",
      "Number of Videos Trending: 1827 \n",
      "\n",
      "Mean views: 3201673\n",
      "Standard Deviation views: 6403962\n",
      "\n",
      "Mean likes: 181244\n",
      "Standard Deviation likes: 329272\n",
      "\n",
      "Mean dislikes: 6175\n",
      "Standard Deviation dislikes: 13852\n",
      "\n",
      "Mean comment_count: 15222\n",
      "Standard Deviation comment_count: 29945\n",
      "\n",
      "\n",
      "\n",
      "DE\n",
      "Number of Videos Trending: 1635 \n",
      "\n",
      "Mean views: 4280453\n",
      "Standard Deviation views: 7565353\n",
      "\n",
      "Mean likes: 234856\n",
      "Standard Deviation likes: 371589\n",
      "\n",
      "Mean dislikes: 8259\n",
      "Standard Deviation dislikes: 15822\n",
      "\n",
      "Mean comment_count: 19736\n",
      "Standard Deviation comment_count: 33769\n",
      "\n",
      "\n",
      "\n",
      "All Countries\n",
      "Total Number of Videos Trending: 12311 \n",
      "\n",
      "Mean views: 8375264\n",
      "Standard Deviation views: 24535593 \n",
      "\n",
      "Mean likes: 203315\n",
      "Standard Deviation likes: 444179 \n",
      "\n",
      "Mean dislikes: 9074\n",
      "Standard Deviation dislikes: 29843 \n",
      "\n",
      "Mean comment_count: 14654\n",
      "Standard Deviation comment_count: 37710 \n",
      "\n"
     ]
    }
   ],
   "source": [
    "countries = list(stats.keys())\n",
    "categories = list(stats[\"US\"].keys())\n",
    "\n",
    "means = {\"views\":[],\"likes\":[],\"dislikes\":[],\"comment_count\":[]}\n",
    "\n",
    "for country in countries: \n",
    "    print(country)\n",
    "    print(\"Number of Videos Trending:\", len(stats[country][\"likes\"]), \"\\n\")\n",
    "    for category in categories:\n",
    "        print(\"Mean \"+category+\":\", int(np.mean(stats[country][category])))\n",
    "        means[category].append(int(np.mean(stats[country][category])))\n",
    "        print(\"Standard Deviation \"+category+\":\", int(np.std(stats[country][category])))\n",
    "        print()\n",
    "    print(\"\\n\")\n",
    "\n",
    "print(\"All Countries\")\n",
    "print(\"Total Number of Videos Trending:\", len(df), \"\\n\")\n",
    "print(\"Mean views:\", int(np.mean(df[\"views\"])))\n",
    "means[\"views\"].append(int(np.mean(df[\"views\"])))\n",
    "print(\"Standard Deviation views:\", int(np.std(df[\"views\"])), \"\\n\")\n",
    "\n",
    "print(\"Mean likes:\", int(np.mean(df[\"likes\"])))\n",
    "means[\"likes\"].append(int(np.mean(df[\"likes\"])))\n",
    "print(\"Standard Deviation likes:\", int(np.std(df[\"likes\"])), \"\\n\")\n",
    "\n",
    "print(\"Mean dislikes:\", int(np.mean(df[\"dislikes\"])))\n",
    "means[\"dislikes\"].append(int(np.mean(df[\"dislikes\"])))\n",
    "print(\"Standard Deviation dislikes:\", int(np.std(df[\"dislikes\"])), \"\\n\")\n",
    "\n",
    "print(\"Mean comment_count:\", int(np.mean(df[\"comment_count\"])))\n",
    "means[\"comment_count\"].append(int(np.mean(df[\"comment_count\"])))\n",
    "print(\"Standard Deviation comment_count:\", int(np.std(df[\"comment_count\"])), \"\\n\")"
   ]
  },
  {
   "cell_type": "markdown",
   "metadata": {},
   "source": [
    "On average, trending videos in Great Britain get more views than in other countries. The mean number of views is greater than that of any country and total. However, the standard deviation is also highest, which could point to the data for Great Britain containing just a few very highly viewed videos. It may be that not all trending videos have a higher number of views in Great Britain than all of the other countries we look at, but just a few do and those outliers are what make the mean nnumber of views much higher. \n",
    "\n",
    "The average number of likes for a trending video is pretty consistent across countries. The mean number of likes are all approximately the 200,000 for each country and total. The average number of dislikes a trending video receives is also fairly consistent across countries, but not as consistent as the average number of likes. The mean number of dislikes range from about 6000 to about 14000. \n",
    "\n",
    "The total mean number of comments is around 15000, and each individual country does not stray so far from that. Again, Great Britain has the highest number of comments for a trending video on average. "
   ]
  },
  {
   "cell_type": "code",
   "execution_count": 5,
   "metadata": {},
   "outputs": [
    {
     "data": {
      "image/png": "[encoded data removed]",
      "text/plain": [
       "<Figure size 432x288 with 1 Axes>"
      ]
     },
     "metadata": {
      "needs_background": "light"
     },
     "output_type": "display_data"
    },
    {
     "data": {
      "image/png": "[encoded data removed]",
      "text/plain": [
       "<Figure size 432x288 with 1 Axes>"
      ]
     },
     "metadata": {
      "needs_background": "light"
     },
     "output_type": "display_data"
    },
    {
     "data": {
      "image/png": "[encoded data removed]",
      "text/plain": [
       "<Figure size 432x288 with 1 Axes>"
      ]
     },
     "metadata": {
      "needs_background": "light"
     },
     "output_type": "display_data"
    },
    {
     "data": {
      "image/png": "[encoded data removed]",
      "text/plain": [
       "<Figure size 432x288 with 1 Axes>"
      ]
     },
     "metadata": {
      "needs_background": "light"
     },
     "output_type": "display_data"
    }
   ],
   "source": [
    "for category in categories: \n",
    "    bars = plt.bar(countries, means[category][:5])\n",
    "    plt.title(\"Mean \"+category)\n",
    "    line = plt.axhline(y=means[category][5],color='red')\n",
    "    plt.legend([line], [\"Total Mean\"])\n",
    "    plt.show()"
   ]
  },
  {
   "cell_type": "markdown",
   "metadata": {},
   "source": [
    "Above are bar chart visualizations of the mean number of views, likes, dislikes, and comments. Each chart shows the mean of one of the four previously mentioned attributes for each country with the blue bars. The red line across each chart shows the total mean for that attribute. We can see that the bar for Great Britain is always above the red line for each chart, showing that the country consistently has a higher mean number of views, likes, dislikes, and comments than all of the countries combined, and each individual country. The mean number of views are what differ most between each country, and the mean number of comments and likes appear to be most consistent across countries. "
   ]
  },
  {
   "cell_type": "markdown",
   "metadata": {},
   "source": [
    "Below, we create linear regression models for different attributes of the data for all of the countries combined. "
   ]
  },
  {
   "cell_type": "code",
   "execution_count": 6,
   "metadata": {},
   "outputs": [
    {
     "name": "stdout",
     "output_type": "stream",
     "text": [
      "R-squared score using likes to predict views with Linear Regression: 0.7585511112638205\n",
      "Slope [48.10941171]\n",
      "Intercept -1406111.4308787398 \n",
      "\n",
      "R-squared score using likes to predict comment count with Linear Regression: 0.8411599085217879\n",
      "Slope [0.07786523]\n",
      "Intercept -1176.18878380352 \n",
      "\n",
      "R-squared score using number of tags to predict views with Linear Regression: 0.0016106755686967622\n",
      "Slope [-108307.88487427]\n",
      "Intercept 9790261.115783216 \n",
      "\n"
     ]
    }
   ],
   "source": [
    "## Linear Regression\n",
    "\n",
    "## likes and views\n",
    "likes_views = LinearRegression().fit(df[[\"likes\"]], df[\"views\"])\n",
    "print(\"R-squared score using likes to predict views with Linear Regression:\", \n",
    "      likes_views.score(df[[\"likes\"]], df[\"views\"]))\n",
    "print(\"Slope\", likes_views.coef_)\n",
    "print(\"Intercept\", likes_views.intercept_, \"\\n\")\n",
    "\n",
    "## likes and comment count\n",
    "likes_comments = LinearRegression().fit(df[[\"likes\"]], df[\"comment_count\"])\n",
    "print(\"R-squared score using likes to predict comment count with Linear Regression:\", \n",
    "      likes_comments.score(df[[\"likes\"]], df[\"comment_count\"]))\n",
    "print(\"Slope\", likes_comments.coef_)\n",
    "print(\"Intercept\", likes_comments.intercept_, \"\\n\")\n",
    "\n",
    "## number of tags and views\n",
    "df[\"num_tags\"] = \"\"\n",
    "for i in range(0, len(df)):\n",
    "    num_tags = len(df.loc[i][\"tags\"].strip('][').split(', '))\n",
    "    df.at[i, \"num_tags\"] = num_tags\n",
    "tags_views = LinearRegression().fit(df[[\"num_tags\"]], df[\"views\"])\n",
    "print(\"R-squared score using number of tags to predict views with Linear Regression:\", \n",
    "      tags_views.score(df[[\"num_tags\"]], df[\"views\"]))\n",
    "print(\"Slope\", tags_views.coef_)\n",
    "print(\"Intercept\", tags_views.intercept_, \"\\n\")\n"
   ]
  },
  {
   "cell_type": "markdown",
   "metadata": {},
   "source": [
    "When using a linear regression model, we can look at the R-squared score to determine how much of the data fits the linear relationship. The scores are between 0 and 1. The closer the score is to 1, the better the fit. Looking at the R-squared scores, there is some relationship between the number of likes and number of views. The relationship between likes and comment count is the strongest with an R-squared score of 0.84. We discovered there is almost no relationship between the number of tags and the views of a trending video, as it had an R-squared score of 0.0016. \n",
    "\n",
    "Because the relationship between likes and comment count is the strongest, we decided to look at that relationship for each country. We can use these models to determine if likes have more of an effect on the number of comments on a trending video in one country than another. "
   ]
  },
  {
   "cell_type": "code",
   "execution_count": 7,
   "metadata": {},
   "outputs": [
    {
     "name": "stdout",
     "output_type": "stream",
     "text": [
      "R-squared score using likes to predict views with Linear Regression in the US: 0.9263233279485494\n",
      "Slope [0.08758506]\n",
      "Intercept -3120.22053807446 \n",
      "\n"
     ]
    },
    {
     "data": {
      "image/png": "[encoded data removed]",
      "text/plain": [
       "<Figure size 432x288 with 1 Axes>"
      ]
     },
     "metadata": {
      "needs_background": "light"
     },
     "output_type": "display_data"
    },
    {
     "name": "stdout",
     "output_type": "stream",
     "text": [
      "R-squared score using likes to predict views with Linear Regression in the CA: 0.8918680940709445\n",
      "Slope [0.08474235]\n",
      "Intercept -342.36599218525953 \n",
      "\n"
     ]
    },
    {
     "data": {
      "image/png": "[encoded data removed]",
      "text/plain": [
       "<Figure size 432x288 with 1 Axes>"
      ]
     },
     "metadata": {
      "needs_background": "light"
     },
     "output_type": "display_data"
    },
    {
     "name": "stdout",
     "output_type": "stream",
     "text": [
      "R-squared score using likes to predict views with Linear Regression in the GB: 0.8372815495777424\n",
      "Slope [0.07896808]\n",
      "Intercept -2090.5144994035363 \n",
      "\n"
     ]
    },
    {
     "data": {
      "image/png": "[encoded data removed]",
      "text/plain": [
       "<Figure size 432x288 with 1 Axes>"
      ]
     },
     "metadata": {
      "needs_background": "light"
     },
     "output_type": "display_data"
    },
    {
     "name": "stdout",
     "output_type": "stream",
     "text": [
      "R-squared score using likes to predict views with Linear Regression in the FR: 0.9141361756236307\n",
      "Slope [0.08695364]\n",
      "Intercept -537.7102691457185 \n",
      "\n"
     ]
    },
    {
     "data": {
      "image/png": "[encoded data removed]",
      "text/plain": [
       "<Figure size 432x288 with 1 Axes>"
      ]
     },
     "metadata": {
      "needs_background": "light"
     },
     "output_type": "display_data"
    },
    {
     "name": "stdout",
     "output_type": "stream",
     "text": [
      "R-squared score using likes to predict views with Linear Regression in the DE: 0.9059480751380748\n",
      "Slope [0.08649894]\n",
      "Intercept -578.7482347872829 \n",
      "\n"
     ]
    },
    {
     "data": {
      "image/png": "[encoded data removed]",
      "text/plain": [
       "<Figure size 432x288 with 1 Axes>"
      ]
     },
     "metadata": {
      "needs_background": "light"
     },
     "output_type": "display_data"
    }
   ],
   "source": [
    "model_US = LinearRegression().fit([[x] for x in stats[\"US\"][\"likes\"]], stats[\"US\"][\"comment_count\"])\n",
    "print(\"R-squared score using likes to predict views with Linear Regression in the US:\", \n",
    "      model_US.score([[x] for x in stats[\"US\"][\"likes\"]], stats[\"US\"][\"comment_count\"]))\n",
    "print(\"Slope\", model_US.coef_)\n",
    "print(\"Intercept\", model_US.intercept_, \"\\n\")\n",
    "predictions_US = model_US.predict([[x] for x in stats[\"US\"][\"likes\"]])\n",
    "plt.scatter(stats[\"US\"][\"likes\"], stats[\"US\"][\"comment_count\"])\n",
    "plt.plot(stats[\"US\"][\"likes\"], predictions_US, color=\"orange\")\n",
    "plt.show()\n",
    "\n",
    "model_CA = LinearRegression().fit([[x] for x in stats[\"CA\"][\"likes\"]], stats[\"CA\"][\"comment_count\"])\n",
    "print(\"R-squared score using likes to predict views with Linear Regression in the CA:\", \n",
    "      model_CA.score([[x] for x in stats[\"CA\"][\"likes\"]], stats[\"CA\"][\"comment_count\"]))\n",
    "print(\"Slope\", model_CA.coef_)\n",
    "print(\"Intercept\", model_CA.intercept_, \"\\n\")\n",
    "predictions_CA = model_CA.predict([[x] for x in stats[\"CA\"][\"likes\"]])\n",
    "plt.scatter(stats[\"CA\"][\"likes\"], stats[\"CA\"][\"comment_count\"])\n",
    "plt.plot(stats[\"CA\"][\"likes\"], predictions_CA, color=\"orange\")\n",
    "plt.show()\n",
    "\n",
    "model_GB = LinearRegression().fit([[x] for x in stats[\"GB\"][\"likes\"]], stats[\"GB\"][\"comment_count\"])\n",
    "print(\"R-squared score using likes to predict views with Linear Regression in the GB:\", \n",
    "      model_GB.score([[x] for x in stats[\"GB\"][\"likes\"]], stats[\"GB\"][\"comment_count\"]))\n",
    "print(\"Slope\", model_GB.coef_)\n",
    "print(\"Intercept\", model_GB.intercept_, \"\\n\")\n",
    "predictions_GB = model_GB.predict([[x] for x in stats[\"GB\"][\"likes\"]])\n",
    "plt.scatter(stats[\"GB\"][\"likes\"], stats[\"GB\"][\"comment_count\"])\n",
    "plt.plot(stats[\"GB\"][\"likes\"], predictions_GB, color=\"orange\")\n",
    "plt.show()\n",
    "\n",
    "model_FR = LinearRegression().fit([[x] for x in stats[\"FR\"][\"likes\"]], stats[\"FR\"][\"comment_count\"])\n",
    "print(\"R-squared score using likes to predict views with Linear Regression in the FR:\", \n",
    "      model_FR.score([[x] for x in stats[\"FR\"][\"likes\"]], stats[\"FR\"][\"comment_count\"]))\n",
    "print(\"Slope\", model_FR.coef_)\n",
    "print(\"Intercept\", model_FR.intercept_, \"\\n\")\n",
    "predictions_FR = model_FR.predict([[x] for x in stats[\"FR\"][\"likes\"]])\n",
    "plt.scatter(stats[\"FR\"][\"likes\"], stats[\"FR\"][\"comment_count\"])\n",
    "plt.plot(stats[\"FR\"][\"likes\"], predictions_FR, color=\"orange\")\n",
    "plt.show()\n",
    "\n",
    "model_DE = LinearRegression().fit([[x] for x in stats[\"DE\"][\"likes\"]], stats[\"DE\"][\"comment_count\"])\n",
    "print(\"R-squared score using likes to predict views with Linear Regression in the DE:\", \n",
    "      model_DE.score([[x] for x in stats[\"DE\"][\"likes\"]], stats[\"DE\"][\"comment_count\"]))\n",
    "print(\"Slope\", model_DE.coef_)\n",
    "print(\"Intercept\", model_DE.intercept_, \"\\n\")\n",
    "predictions_DE = model_DE.predict([[x] for x in stats[\"DE\"][\"likes\"]])\n",
    "plt.scatter(stats[\"DE\"][\"likes\"], stats[\"DE\"][\"comment_count\"])\n",
    "plt.plot(stats[\"DE\"][\"likes\"], predictions_DE, color=\"orange\")\n",
    "plt.show()\n"
   ]
  },
  {
   "cell_type": "markdown",
   "metadata": {},
   "source": [
    "Almost all of the R-squared scores for each country, besides Great Britain, are about 0.9, which is an even stronger relationship than overall. The R-squared score for Great Britain is about 0.84, which is about the same as the overall R-squared score. The linear relationship between the number of likes and the number of comments is pretty strong for the United States, Canada, France, and Germany. In general, for those countries, the number comments increases with the number of likes. The same goes for Great Britain, although it is not as strong of a relationship. "
   ]
  },
  {
   "cell_type": "code",
   "execution_count": null,
   "metadata": {},
   "outputs": [],
   "source": []
  }
 ],
 "metadata": {
  "kernelspec": {
   "display_name": "Python 3",
   "language": "python",
   "name": "python3"
  },
  "language_info": {
   "codemirror_mode": {
    "name": "ipython",
    "version": 3
   },
   "file_extension": ".py",
   "mimetype": "text/x-python",
   "name": "python",
   "nbconvert_exporter": "python",
   "pygments_lexer": "ipython3",
   "version": "3.7.6"
  }
 },
 "nbformat": 4,
 "nbformat_minor": 2
}
